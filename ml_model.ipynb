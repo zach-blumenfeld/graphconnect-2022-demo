{
 "cells": [
  {
   "cell_type": "markdown",
   "id": "e0b83a7e-b90e-4845-a372-4a6bcd1dd86a",
   "metadata": {},
   "source": [
    "# Graph Data Science Demo\n",
    "\n",
    "Now that we've created our *huge* (1.7B relationships! 244M nodes!) graph projections, let's do some data science.\n",
    "\n",
    "The point of this demo is to show that enterprise graph data science is simple, fast, and easy using GDS. We're going to take our citation network dataset and build up a quick recommendations workflow by (1) paring it down to the relevant data, (2) calculating a graph embedding to encode all the relevant topological data for each node in our graph, and then (3) building up a nearest neighbors graph - based on those embeddings - so we can find out which papers are similar based on the structure of the graph.\n",
    "\n",
    "In the real world, you might use that similarity graph as an alternative to traditional collaborative filtering methods. It's more scalable and flexible, and can look beyond one hop relationships. For this demo, we'll build up our graph and then take a peak at the results in bloom."
   ]
  },
  {
   "cell_type": "markdown",
   "id": "3b5819d4-02b3-4508-b316-30a6b95957ed",
   "metadata": {},
   "source": [
    "### Set up & Initialization"
   ]
  },
  {
   "cell_type": "code",
   "execution_count": 1,
   "id": "14092fe3-3c13-40e8-8a05-fbeeedb329ff",
   "metadata": {},
   "outputs": [],
   "source": [
    "%%capture\n",
    "pip install graphdatascience==1.1.0rc1 ipywidgets "
   ]
  },
  {
   "cell_type": "code",
   "execution_count": 2,
   "id": "d9fd3b8d-9130-4290-8664-97d8f9788c0a",
   "metadata": {},
   "outputs": [],
   "source": [
    "# Client import\n",
    "from graphdatascience import GraphDataScience\n",
    "\n",
    "# Replace with the actual URI, username and password\n",
    "CONNECTION_URI = \"neo4j+s://demo2.graphconnect.app:7687\"\n",
    "USERNAME = \"neo4j\"\n",
    "with open('pass.txt', mode='r') as f:\n",
    "    PASSWORD = f.readline().strip()\n",
    "\n",
    "# Client instantiation\n",
    "gds = GraphDataScience(\n",
    "    CONNECTION_URI,\n",
    "    auth=(USERNAME, PASSWORD)\n",
    ")"
   ]
  },
  {
   "cell_type": "markdown",
   "id": "faa15871-32b5-4cbd-96dd-95243b2778f3",
   "metadata": {},
   "source": [
    "### Bind the graph projection to a graph object \n",
    "The GDS Python Client works with graph objects in Python. If we were constructing the graph from a neo4j database (or a pandas dataframe), that would automatically return a graph object. Since we're using the graph that we just created with custom Arrow import code, we need to assign it to a graph object using `get`"
   ]
  },
  {
   "cell_type": "code",
   "execution_count": 3,
   "id": "a29366b9-c0d3-4b6e-9f15-84c446434d25",
   "metadata": {},
   "outputs": [],
   "source": [
    "G=gds.graph.get(\"gcdemo\")"
   ]
  },
  {
   "cell_type": "markdown",
   "id": "80401b85-ae83-4b26-a60a-badf3f764b32",
   "metadata": {},
   "source": [
    "## Engineer FastRP Features"
   ]
  },
  {
   "cell_type": "code",
   "execution_count": null,
   "id": "cb966319-7a49-4b59-85e9-6074e0f675a6",
   "metadata": {},
   "outputs": [],
   "source": [
    "res=gds.fastRP.mutate(\n",
    "    G,\n",
    "    embeddingDimension=256,\n",
    "    concurrency=224,\n",
    "    mutateProperty=\"graphEmbedding\"\n",
    ")\n",
    "\n",
    "res"
   ]
  },
  {
   "cell_type": "markdown",
   "id": "1b6735b6-9c14-41af-a190-7052fc464c95",
   "metadata": {},
   "source": [
    "## Export Labeled Papers with FastRP Features"
   ]
  },
  {
   "cell_type": "code",
   "execution_count": 22,
   "id": "19523800-1fba-4273-abf1-36c0d307aa79",
   "metadata": {},
   "outputs": [
    {
     "data": {
      "text/plain": [
       "fromGraphName                            gcdemo\n",
       "nodeFilter            n:Paper AND (n.flag >= 0)\n",
       "relationshipFilter                            *\n",
       "graphName                      labledProjection\n",
       "nodeCount                               1251341\n",
       "relationshipCount                       4035688\n",
       "projectMillis                             15600\n",
       "Name: 0, dtype: object"
      ]
     },
     "execution_count": 22,
     "metadata": {},
     "output_type": "execute_result"
    }
   ],
   "source": [
    "# start with subgraph projection\n",
    "g_labeled, res = gds.beta.graph.project.subgraph(\n",
    "  'labledProjection',\n",
    "  G,\n",
    "  'n:Paper AND (n.flag >= 0)',\n",
    "  '*',\n",
    "  concurrency=224\n",
    ")\n",
    "\n",
    "res"
   ]
  },
  {
   "cell_type": "code",
   "execution_count": 4,
   "id": "50a01269-a30a-432b-9068-757e0cd79868",
   "metadata": {
    "tags": []
   },
   "outputs": [],
   "source": [
    "import time\n",
    "import neo4j_arrow as na"
   ]
  },
  {
   "cell_type": "code",
   "execution_count": 5,
   "id": "02583bba-1963-40b1-ac27-790435ebee65",
   "metadata": {},
   "outputs": [],
   "source": [
    "with open('pass.txt', mode='r') as f:\n",
    "    password = f.readline().strip()\n",
    "\n",
    "client = na.Neo4jArrowClient('demo2.graphconnect.app', graph=\"labledProjection\", password=password, concurrency=224)"
   ]
  },
  {
   "cell_type": "code",
   "execution_count": 6,
   "id": "44622bd2-925f-471e-a72c-9007c243719d",
   "metadata": {},
   "outputs": [
    {
     "data": {
      "text/html": [
       "<div>\n",
       "<style scoped>\n",
       "    .dataframe tbody tr th:only-of-type {\n",
       "        vertical-align: middle;\n",
       "    }\n",
       "\n",
       "    .dataframe tbody tr th {\n",
       "        vertical-align: top;\n",
       "    }\n",
       "\n",
       "    .dataframe thead th {\n",
       "        text-align: right;\n",
       "    }\n",
       "</style>\n",
       "<table border=\"1\" class=\"dataframe\">\n",
       "  <thead>\n",
       "    <tr style=\"text-align: right;\">\n",
       "      <th></th>\n",
       "      <th>nodeId</th>\n",
       "      <th>graphEmbedding</th>\n",
       "      <th>flag</th>\n",
       "      <th>years</th>\n",
       "    </tr>\n",
       "  </thead>\n",
       "  <tbody>\n",
       "    <tr>\n",
       "      <th>0</th>\n",
       "      <td>255702663</td>\n",
       "      <td>[0.018323343, 0.012007594, -0.25506234, -0.053...</td>\n",
       "      <td>28</td>\n",
       "      <td>2018</td>\n",
       "    </tr>\n",
       "    <tr>\n",
       "      <th>1</th>\n",
       "      <td>255702719</td>\n",
       "      <td>[-0.06454927, 0.05650944, 0.09837681, 0.013585...</td>\n",
       "      <td>60</td>\n",
       "      <td>2018</td>\n",
       "    </tr>\n",
       "    <tr>\n",
       "      <th>2</th>\n",
       "      <td>255702776</td>\n",
       "      <td>[-0.13224208, -0.010649643, -0.14354382, 0.047...</td>\n",
       "      <td>141</td>\n",
       "      <td>2015</td>\n",
       "    </tr>\n",
       "    <tr>\n",
       "      <th>3</th>\n",
       "      <td>255702981</td>\n",
       "      <td>[-0.062156837, 0.10611194, 0.20513633, -0.1482...</td>\n",
       "      <td>43</td>\n",
       "      <td>2011</td>\n",
       "    </tr>\n",
       "    <tr>\n",
       "      <th>4</th>\n",
       "      <td>255702983</td>\n",
       "      <td>[-0.08450825, -0.05039478, -0.1359004, 0.02768...</td>\n",
       "      <td>141</td>\n",
       "      <td>2016</td>\n",
       "    </tr>\n",
       "    <tr>\n",
       "      <th>...</th>\n",
       "      <td>...</td>\n",
       "      <td>...</td>\n",
       "      <td>...</td>\n",
       "      <td>...</td>\n",
       "    </tr>\n",
       "    <tr>\n",
       "      <th>1336</th>\n",
       "      <td>255969052</td>\n",
       "      <td>[0.1873631, -0.16102183, -0.0050299345, -0.030...</td>\n",
       "      <td>42</td>\n",
       "      <td>2018</td>\n",
       "    </tr>\n",
       "    <tr>\n",
       "      <th>1337</th>\n",
       "      <td>255969109</td>\n",
       "      <td>[0.10000002, 0.0005037263, 0.10000002, 0.10000...</td>\n",
       "      <td>65</td>\n",
       "      <td>2017</td>\n",
       "    </tr>\n",
       "    <tr>\n",
       "      <th>1338</th>\n",
       "      <td>255969220</td>\n",
       "      <td>[0.056905545, -0.07888851, 0.005949719, -0.082...</td>\n",
       "      <td>72</td>\n",
       "      <td>2019</td>\n",
       "    </tr>\n",
       "    <tr>\n",
       "      <th>1339</th>\n",
       "      <td>255969263</td>\n",
       "      <td>[-0.16350809, -0.13330199, -0.00085447147, -0....</td>\n",
       "      <td>142</td>\n",
       "      <td>2019</td>\n",
       "    </tr>\n",
       "    <tr>\n",
       "      <th>1340</th>\n",
       "      <td>255969390</td>\n",
       "      <td>[-0.082499154, 0.010549386, 0.018699018, 0.187...</td>\n",
       "      <td>127</td>\n",
       "      <td>2018</td>\n",
       "    </tr>\n",
       "  </tbody>\n",
       "</table>\n",
       "<p>1341 rows × 4 columns</p>\n",
       "</div>"
      ],
      "text/plain": [
       "         nodeId                                     graphEmbedding  flag  \\\n",
       "0     255702663  [0.018323343, 0.012007594, -0.25506234, -0.053...    28   \n",
       "1     255702719  [-0.06454927, 0.05650944, 0.09837681, 0.013585...    60   \n",
       "2     255702776  [-0.13224208, -0.010649643, -0.14354382, 0.047...   141   \n",
       "3     255702981  [-0.062156837, 0.10611194, 0.20513633, -0.1482...    43   \n",
       "4     255702983  [-0.08450825, -0.05039478, -0.1359004, 0.02768...   141   \n",
       "...         ...                                                ...   ...   \n",
       "1336  255969052  [0.1873631, -0.16102183, -0.0050299345, -0.030...    42   \n",
       "1337  255969109  [0.10000002, 0.0005037263, 0.10000002, 0.10000...    65   \n",
       "1338  255969220  [0.056905545, -0.07888851, 0.005949719, -0.082...    72   \n",
       "1339  255969263  [-0.16350809, -0.13330199, -0.00085447147, -0....   142   \n",
       "1340  255969390  [-0.082499154, 0.010549386, 0.018699018, 0.187...   127   \n",
       "\n",
       "      years  \n",
       "0      2018  \n",
       "1      2018  \n",
       "2      2015  \n",
       "3      2011  \n",
       "4      2016  \n",
       "...     ...  \n",
       "1336   2018  \n",
       "1337   2017  \n",
       "1338   2019  \n",
       "1339   2019  \n",
       "1340   2018  \n",
       "\n",
       "[1341 rows x 4 columns]"
      ]
     },
     "execution_count": 6,
     "metadata": {},
     "output_type": "execute_result"
    }
   ],
   "source": [
    "dfs = []\n",
    "for chunk in client.read_nodes([\"graphEmbedding\", \"flag\", \"years\"]):\n",
    "    dfs.append(chunk.to_pandas())\n",
    "dfs[0]"
   ]
  },
  {
   "cell_type": "code",
   "execution_count": 7,
   "id": "bc8eca0e-fb47-43df-a2ea-2bacbcd11b3c",
   "metadata": {},
   "outputs": [
    {
     "data": {
      "text/html": [
       "<div>\n",
       "<style scoped>\n",
       "    .dataframe tbody tr th:only-of-type {\n",
       "        vertical-align: middle;\n",
       "    }\n",
       "\n",
       "    .dataframe tbody tr th {\n",
       "        vertical-align: top;\n",
       "    }\n",
       "\n",
       "    .dataframe thead th {\n",
       "        text-align: right;\n",
       "    }\n",
       "</style>\n",
       "<table border=\"1\" class=\"dataframe\">\n",
       "  <thead>\n",
       "    <tr style=\"text-align: right;\">\n",
       "      <th></th>\n",
       "      <th>nodeId</th>\n",
       "      <th>graphEmbedding</th>\n",
       "      <th>flag</th>\n",
       "      <th>years</th>\n",
       "    </tr>\n",
       "  </thead>\n",
       "  <tbody>\n",
       "    <tr>\n",
       "      <th>0</th>\n",
       "      <td>255702663</td>\n",
       "      <td>[0.018323343, 0.012007594, -0.25506234, -0.053...</td>\n",
       "      <td>28</td>\n",
       "      <td>2018</td>\n",
       "    </tr>\n",
       "    <tr>\n",
       "      <th>1</th>\n",
       "      <td>255702719</td>\n",
       "      <td>[-0.06454927, 0.05650944, 0.09837681, 0.013585...</td>\n",
       "      <td>60</td>\n",
       "      <td>2018</td>\n",
       "    </tr>\n",
       "    <tr>\n",
       "      <th>2</th>\n",
       "      <td>255702776</td>\n",
       "      <td>[-0.13224208, -0.010649643, -0.14354382, 0.047...</td>\n",
       "      <td>141</td>\n",
       "      <td>2015</td>\n",
       "    </tr>\n",
       "    <tr>\n",
       "      <th>3</th>\n",
       "      <td>255702981</td>\n",
       "      <td>[-0.062156837, 0.10611194, 0.20513633, -0.1482...</td>\n",
       "      <td>43</td>\n",
       "      <td>2011</td>\n",
       "    </tr>\n",
       "    <tr>\n",
       "      <th>4</th>\n",
       "      <td>255702983</td>\n",
       "      <td>[-0.08450825, -0.05039478, -0.1359004, 0.02768...</td>\n",
       "      <td>141</td>\n",
       "      <td>2016</td>\n",
       "    </tr>\n",
       "    <tr>\n",
       "      <th>...</th>\n",
       "      <td>...</td>\n",
       "      <td>...</td>\n",
       "      <td>...</td>\n",
       "      <td>...</td>\n",
       "    </tr>\n",
       "    <tr>\n",
       "      <th>9995</th>\n",
       "      <td>173135179</td>\n",
       "      <td>[0.06877658, -0.117199585, 0.08505142, 0.04497...</td>\n",
       "      <td>111</td>\n",
       "      <td>2003</td>\n",
       "    </tr>\n",
       "    <tr>\n",
       "      <th>9996</th>\n",
       "      <td>173135185</td>\n",
       "      <td>[-0.045556977, -0.18906558, -0.037356168, -0.0...</td>\n",
       "      <td>62</td>\n",
       "      <td>2012</td>\n",
       "    </tr>\n",
       "    <tr>\n",
       "      <th>9997</th>\n",
       "      <td>173135215</td>\n",
       "      <td>[-0.24145196, -0.07898462, 0.18446049, 0.00257...</td>\n",
       "      <td>33</td>\n",
       "      <td>2015</td>\n",
       "    </tr>\n",
       "    <tr>\n",
       "      <th>9998</th>\n",
       "      <td>173135764</td>\n",
       "      <td>[0.010843396, -0.11195288, -0.0343456, -0.1059...</td>\n",
       "      <td>54</td>\n",
       "      <td>2007</td>\n",
       "    </tr>\n",
       "    <tr>\n",
       "      <th>9999</th>\n",
       "      <td>173135921</td>\n",
       "      <td>[-0.02585548, 0.022647394, -0.032288585, -0.02...</td>\n",
       "      <td>138</td>\n",
       "      <td>2015</td>\n",
       "    </tr>\n",
       "  </tbody>\n",
       "</table>\n",
       "<p>1251341 rows × 4 columns</p>\n",
       "</div>"
      ],
      "text/plain": [
       "         nodeId                                     graphEmbedding  flag  \\\n",
       "0     255702663  [0.018323343, 0.012007594, -0.25506234, -0.053...    28   \n",
       "1     255702719  [-0.06454927, 0.05650944, 0.09837681, 0.013585...    60   \n",
       "2     255702776  [-0.13224208, -0.010649643, -0.14354382, 0.047...   141   \n",
       "3     255702981  [-0.062156837, 0.10611194, 0.20513633, -0.1482...    43   \n",
       "4     255702983  [-0.08450825, -0.05039478, -0.1359004, 0.02768...   141   \n",
       "...         ...                                                ...   ...   \n",
       "9995  173135179  [0.06877658, -0.117199585, 0.08505142, 0.04497...   111   \n",
       "9996  173135185  [-0.045556977, -0.18906558, -0.037356168, -0.0...    62   \n",
       "9997  173135215  [-0.24145196, -0.07898462, 0.18446049, 0.00257...    33   \n",
       "9998  173135764  [0.010843396, -0.11195288, -0.0343456, -0.1059...    54   \n",
       "9999  173135921  [-0.02585548, 0.022647394, -0.032288585, -0.02...   138   \n",
       "\n",
       "      years  \n",
       "0      2018  \n",
       "1      2018  \n",
       "2      2015  \n",
       "3      2011  \n",
       "4      2016  \n",
       "...     ...  \n",
       "9995   2003  \n",
       "9996   2012  \n",
       "9997   2015  \n",
       "9998   2007  \n",
       "9999   2015  \n",
       "\n",
       "[1251341 rows x 4 columns]"
      ]
     },
     "execution_count": 7,
     "metadata": {},
     "output_type": "execute_result"
    }
   ],
   "source": [
    "import pandas as pd\n",
    "df = pd.concat(dfs)\n",
    "df"
   ]
  },
  {
   "cell_type": "markdown",
   "id": "9727a85c-8c89-4a29-aaa0-bcb083820c38",
   "metadata": {},
   "source": [
    "## Train Nueral Netowrk"
   ]
  },
  {
   "cell_type": "code",
   "execution_count": 8,
   "id": "77da8583-b0ad-42fc-986c-c97316f6cbda",
   "metadata": {},
   "outputs": [
    {
     "name": "stdout",
     "output_type": "stream",
     "text": [
      "2.8.1\n"
     ]
    }
   ],
   "source": [
    "# TensorFlow and tf.keras\n",
    "import tensorflow as tf\n",
    "\n",
    "# Helper libraries\n",
    "import numpy as np\n",
    "import matplotlib.pyplot as plt\n",
    "\n",
    "print(tf.__version__)"
   ]
  },
  {
   "cell_type": "code",
   "execution_count": 9,
   "id": "7c684ed5-d07b-45c1-b0b4-578fad06c9e6",
   "metadata": {},
   "outputs": [],
   "source": [
    "df_train = df[df.years < 2019]\n",
    "df_test = df[df.years >= 2019]"
   ]
  },
  {
   "cell_type": "code",
   "execution_count": 10,
   "id": "078a4e56-c20a-41d6-898f-850a11c66695",
   "metadata": {},
   "outputs": [],
   "source": [
    "y_train = df_train.flag\n",
    "y_test = df_test.flag\n",
    "X_train = np.stack(df_train.graphEmbedding, axis=0)\n",
    "X_test = np.stack(df_test.graphEmbedding, axis=0)"
   ]
  },
  {
   "cell_type": "code",
   "execution_count": 11,
   "id": "f5838253-832f-444f-8bcc-823978317f09",
   "metadata": {},
   "outputs": [
    {
     "name": "stderr",
     "output_type": "stream",
     "text": [
      "2022-06-11 01:22:49.897366: I tensorflow/core/common_runtime/process_util.cc:146] Creating new thread pool with default inter op setting: 2. Tune using inter_op_parallelism_threads for best performance.\n"
     ]
    }
   ],
   "source": [
    "model = tf.keras.Sequential([\n",
    "    tf.keras.layers.Dense(256, kernel_regularizer=tf.keras.regularizers.l2(0.0001)),\n",
    "    tf.keras.layers.Dense(180, activation='relu', kernel_regularizer=tf.keras.regularizers.l2(0.0001)),\n",
    "    tf.keras.layers.Dense(153)\n",
    "])"
   ]
  },
  {
   "cell_type": "code",
   "execution_count": 12,
   "id": "02ae8e9c-b4c9-48d7-8ad4-5bd6a19e7a4f",
   "metadata": {},
   "outputs": [],
   "source": [
    "model.compile(optimizer='adam',\n",
    "              loss=tf.keras.losses.SparseCategoricalCrossentropy(from_logits=True),\n",
    "              metrics=['accuracy'])"
   ]
  },
  {
   "cell_type": "code",
   "execution_count": 13,
   "id": "e9c5b799-6001-4898-9476-0e1f33f7fed5",
   "metadata": {},
   "outputs": [
    {
     "name": "stdout",
     "output_type": "stream",
     "text": [
      "Epoch 1/3\n",
      "34763/34763 [==============================] - 208s 6ms/step - loss: 3.2525 - accuracy: 0.3061\n",
      "Epoch 2/3\n",
      "34763/34763 [==============================] - 208s 6ms/step - loss: 3.0697 - accuracy: 0.3423\n",
      "Epoch 3/3\n",
      "34763/34763 [==============================] - 209s 6ms/step - loss: 3.0176 - accuracy: 0.3518\n"
     ]
    },
    {
     "data": {
      "text/plain": [
       "<keras.callbacks.History at 0x7fc3e562f090>"
      ]
     },
     "execution_count": 13,
     "metadata": {},
     "output_type": "execute_result"
    }
   ],
   "source": [
    "model.fit(X_train, y_train, epochs=3)"
   ]
  },
  {
   "cell_type": "code",
   "execution_count": 14,
   "id": "479606fe-de3f-467f-99db-343837945b8f",
   "metadata": {},
   "outputs": [
    {
     "name": "stdout",
     "output_type": "stream",
     "text": [
      "4343/4343 - 11s - loss: 3.1525 - accuracy: 0.3464 - 11s/epoch - 2ms/step\n",
      "\n",
      "Test accuracy: 0.3463860750198364\n"
     ]
    }
   ],
   "source": [
    "test_loss, test_acc = model.evaluate(X_test,  y_test, verbose=2)\n",
    "\n",
    "print('\\nTest accuracy:', test_acc)"
   ]
  },
  {
   "cell_type": "code",
   "execution_count": 15,
   "id": "a406aedf-7d89-4dfa-908e-2c870d834c05",
   "metadata": {},
   "outputs": [
    {
     "name": "stderr",
     "output_type": "stream",
     "text": [
      "2022-06-11 01:33:49.461396: W tensorflow/python/util/util.cc:368] Sets are not currently considered sequences, but this may change in the future, so consider avoiding using them.\n"
     ]
    },
    {
     "name": "stdout",
     "output_type": "stream",
     "text": [
      "INFO:tensorflow:Assets written to: simple-paper-classifier-2/assets\n"
     ]
    }
   ],
   "source": [
    "model.save('simple-paper-classifier-2')"
   ]
  },
  {
   "cell_type": "code",
   "execution_count": null,
   "id": "42790c5e-63d4-4c80-90ef-c1542ab5a496",
   "metadata": {},
   "outputs": [],
   "source": []
  }
 ],
 "metadata": {
  "environment": {
   "kernel": "python3",
   "name": "tf2-gpu.2-8.m93",
   "type": "gcloud",
   "uri": "gcr.io/deeplearning-platform-release/tf2-gpu.2-8:m93"
  },
  "kernelspec": {
   "display_name": "Python 3",
   "language": "python",
   "name": "python3"
  },
  "language_info": {
   "codemirror_mode": {
    "name": "ipython",
    "version": 3
   },
   "file_extension": ".py",
   "mimetype": "text/x-python",
   "name": "python",
   "nbconvert_exporter": "python",
   "pygments_lexer": "ipython3",
   "version": "3.7.12"
  }
 },
 "nbformat": 4,
 "nbformat_minor": 5
}
