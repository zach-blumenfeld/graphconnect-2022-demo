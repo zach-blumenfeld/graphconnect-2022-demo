{
 "cells": [
  {
   "cell_type": "markdown",
   "id": "e0b83a7e-b90e-4845-a372-4a6bcd1dd86a",
   "metadata": {},
   "source": [
    "# Graph Feature Engineering and Classifier Training + Evaluation"
   ]
  },
  {
   "cell_type": "markdown",
   "id": "3b5819d4-02b3-4508-b316-30a6b95957ed",
   "metadata": {},
   "source": [
    "### Set up & Initialization"
   ]
  },
  {
   "cell_type": "code",
   "execution_count": 19,
   "id": "14092fe3-3c13-40e8-8a05-fbeeedb329ff",
   "metadata": {},
   "outputs": [],
   "source": [
    "%%capture\n",
    "pip install graphdatascience==1.1.0rc1 ipywidgets "
   ]
  },
  {
   "cell_type": "code",
   "execution_count": 20,
   "id": "d9fd3b8d-9130-4290-8664-97d8f9788c0a",
   "metadata": {},
   "outputs": [],
   "source": [
    "# Client import\n",
    "from graphdatascience import GraphDataScience\n",
    "\n",
    "# Replace with the actual URI, username and password\n",
    "CONNECTION_URI = \"neo4j+s://demo2.graphconnect.app:7687\"\n",
    "USERNAME = \"neo4j\"\n",
    "with open('pass.txt', mode='r') as f:\n",
    "    PASSWORD = f.readline().strip()\n",
    "\n",
    "# Client instantiation\n",
    "gds = GraphDataScience(\n",
    "    CONNECTION_URI,\n",
    "    auth=(USERNAME, PASSWORD)\n",
    ")"
   ]
  },
  {
   "cell_type": "markdown",
   "id": "faa15871-32b5-4cbd-96dd-95243b2778f3",
   "metadata": {},
   "source": [
    "### Bind the graph projection to a graph object \n",
    "The GDS Python Client works with graph objects in Python. If we were constructing the graph from a neo4j database (or a pandas dataframe), that would automatically return a graph object. Since we're using the graph that we just created with custom Arrow import code, we need to assign it to a graph object using `get`"
   ]
  },
  {
   "cell_type": "code",
   "execution_count": 21,
   "id": "a29366b9-c0d3-4b6e-9f15-84c446434d25",
   "metadata": {},
   "outputs": [],
   "source": [
    "G=gds.graph.get(\"gcdemo\")"
   ]
  },
  {
   "cell_type": "markdown",
   "id": "80401b85-ae83-4b26-a60a-badf3f764b32",
   "metadata": {},
   "source": [
    "## Engineer FastRP Features"
   ]
  },
  {
   "cell_type": "code",
   "execution_count": 22,
   "id": "cb966319-7a49-4b59-85e9-6074e0f675a6",
   "metadata": {
    "tags": []
   },
   "outputs": [
    {
     "data": {
      "application/vnd.jupyter.widget-view+json": {
       "model_id": "7b7a927e7dc44527b98812bf61f6e469",
       "version_major": 2,
       "version_minor": 0
      },
      "text/plain": [
       "FastRP:   0%|          | 0/100 [00:00<?, ?%/s]"
      ]
     },
     "metadata": {},
     "output_type": "display_data"
    },
    {
     "data": {
      "text/plain": [
       "nodePropertiesWritten                                            244160499\n",
       "mutateMillis                                                             1\n",
       "nodeCount                                                        244160499\n",
       "preProcessingMillis                                                      1\n",
       "computeMillis                                                       175540\n",
       "configuration            {'nodeSelfInfluence': 0, 'relationshipWeightPr...\n",
       "Name: 0, dtype: object"
      ]
     },
     "execution_count": 22,
     "metadata": {},
     "output_type": "execute_result"
    }
   ],
   "source": [
    "res=gds.fastRP.mutate(\n",
    "    G,\n",
    "    #nodeLabels=['Paper', 'Author'],\n",
    "    #relationshipTypes=['CITES', 'AUTHORED'],\n",
    "    embeddingDimension=256,\n",
    "    concurrency=224,\n",
    "    randomSeed=7474,\n",
    "    mutateProperty=\"graphEmbedding\"\n",
    ")\n",
    "\n",
    "res"
   ]
  },
  {
   "cell_type": "markdown",
   "id": "1b6735b6-9c14-41af-a190-7052fc464c95",
   "metadata": {},
   "source": [
    "## Export Labeled Papers with FastRP Features"
   ]
  },
  {
   "cell_type": "code",
   "execution_count": 33,
   "id": "19523800-1fba-4273-abf1-36c0d307aa79",
   "metadata": {},
   "outputs": [
    {
     "data": {
      "text/plain": [
       "fromGraphName                            gcdemo\n",
       "nodeFilter            n:Paper AND (n.flag >= 0)\n",
       "relationshipFilter                            *\n",
       "graphName                     labeledProjection\n",
       "nodeCount                               1251341\n",
       "relationshipCount                       4035688\n",
       "projectMillis                             12651\n",
       "Name: 0, dtype: object"
      ]
     },
     "execution_count": 33,
     "metadata": {},
     "output_type": "execute_result"
    }
   ],
   "source": [
    "# start with subgraph projection\n",
    "g_labeled, res = gds.beta.graph.project.subgraph(\n",
    "  'labeledProjection',\n",
    "  G,\n",
    "  'n:Paper AND (n.flag >= 0)',\n",
    "  '*',\n",
    "  concurrency=224\n",
    ")\n",
    "\n",
    "res"
   ]
  },
  {
   "cell_type": "code",
   "execution_count": 34,
   "id": "50a01269-a30a-432b-9068-757e0cd79868",
   "metadata": {
    "tags": []
   },
   "outputs": [],
   "source": [
    "import time\n",
    "import neo4j_arrow as na"
   ]
  },
  {
   "cell_type": "code",
   "execution_count": 35,
   "id": "02583bba-1963-40b1-ac27-790435ebee65",
   "metadata": {},
   "outputs": [],
   "source": [
    "with open('pass.txt', mode='r') as f:\n",
    "    password = f.readline().strip()\n",
    "\n",
    "client = na.Neo4jArrowClient('demo2.graphconnect.app', graph=\"labeledProjection\", password=password, concurrency=224)"
   ]
  },
  {
   "cell_type": "code",
   "execution_count": 36,
   "id": "44622bd2-925f-471e-a72c-9007c243719d",
   "metadata": {},
   "outputs": [
    {
     "name": "stdout",
     "output_type": "stream",
     "text": [
      "CPU times: user 1.94 s, sys: 1.34 s, total: 3.28 s\n",
      "Wall time: 16.8 s\n"
     ]
    }
   ],
   "source": [
    "%%time\n",
    "dfs = []\n",
    "for chunk in client.read_nodes([\"graphEmbedding\", \"flag\", \"years\"]):\n",
    "    dfs.append(chunk.to_pandas())"
   ]
  },
  {
   "cell_type": "code",
   "execution_count": 37,
   "id": "bc8eca0e-fb47-43df-a2ea-2bacbcd11b3c",
   "metadata": {},
   "outputs": [
    {
     "data": {
      "text/html": [
       "<div>\n",
       "<style scoped>\n",
       "    .dataframe tbody tr th:only-of-type {\n",
       "        vertical-align: middle;\n",
       "    }\n",
       "\n",
       "    .dataframe tbody tr th {\n",
       "        vertical-align: top;\n",
       "    }\n",
       "\n",
       "    .dataframe thead th {\n",
       "        text-align: right;\n",
       "    }\n",
       "</style>\n",
       "<table border=\"1\" class=\"dataframe\">\n",
       "  <thead>\n",
       "    <tr style=\"text-align: right;\">\n",
       "      <th></th>\n",
       "      <th>nodeId</th>\n",
       "      <th>graphEmbedding</th>\n",
       "      <th>flag</th>\n",
       "      <th>years</th>\n",
       "    </tr>\n",
       "  </thead>\n",
       "  <tbody>\n",
       "    <tr>\n",
       "      <th>0</th>\n",
       "      <td>255702663</td>\n",
       "      <td>[0.06717815, -0.092532516, -0.1189363, -0.0300...</td>\n",
       "      <td>28</td>\n",
       "      <td>2018</td>\n",
       "    </tr>\n",
       "    <tr>\n",
       "      <th>1</th>\n",
       "      <td>255702719</td>\n",
       "      <td>[0.04853616, 0.05288233, -0.03917888, 0.079376...</td>\n",
       "      <td>60</td>\n",
       "      <td>2018</td>\n",
       "    </tr>\n",
       "    <tr>\n",
       "      <th>2</th>\n",
       "      <td>255702776</td>\n",
       "      <td>[0.07652574, 0.049551904, 0.071946, 0.03915725...</td>\n",
       "      <td>141</td>\n",
       "      <td>2015</td>\n",
       "    </tr>\n",
       "    <tr>\n",
       "      <th>3</th>\n",
       "      <td>255702981</td>\n",
       "      <td>[0.16148047, -0.053723894, 0.0099196695, 0.060...</td>\n",
       "      <td>43</td>\n",
       "      <td>2011</td>\n",
       "    </tr>\n",
       "    <tr>\n",
       "      <th>4</th>\n",
       "      <td>255702983</td>\n",
       "      <td>[-0.024817739, 0.019410789, -0.2168279, -0.092...</td>\n",
       "      <td>141</td>\n",
       "      <td>2016</td>\n",
       "    </tr>\n",
       "    <tr>\n",
       "      <th>...</th>\n",
       "      <td>...</td>\n",
       "      <td>...</td>\n",
       "      <td>...</td>\n",
       "      <td>...</td>\n",
       "    </tr>\n",
       "    <tr>\n",
       "      <th>9995</th>\n",
       "      <td>162410689</td>\n",
       "      <td>[0.019068487, -0.0447315, 0.15278411, 0.049438...</td>\n",
       "      <td>41</td>\n",
       "      <td>2016</td>\n",
       "    </tr>\n",
       "    <tr>\n",
       "      <th>9996</th>\n",
       "      <td>162411050</td>\n",
       "      <td>[-0.13176966, -0.21428567, -0.0612996, -0.1759...</td>\n",
       "      <td>62</td>\n",
       "      <td>2017</td>\n",
       "    </tr>\n",
       "    <tr>\n",
       "      <th>9997</th>\n",
       "      <td>162411140</td>\n",
       "      <td>[0.18016608, -0.038522035, -0.044146292, -0.05...</td>\n",
       "      <td>37</td>\n",
       "      <td>2017</td>\n",
       "    </tr>\n",
       "    <tr>\n",
       "      <th>9998</th>\n",
       "      <td>162411224</td>\n",
       "      <td>[0.1963172, 0.008663094, -0.08452889, -0.03905...</td>\n",
       "      <td>0</td>\n",
       "      <td>2018</td>\n",
       "    </tr>\n",
       "    <tr>\n",
       "      <th>9999</th>\n",
       "      <td>162411250</td>\n",
       "      <td>[0.2706955, -0.06857227, -0.035038702, -0.2032...</td>\n",
       "      <td>88</td>\n",
       "      <td>2018</td>\n",
       "    </tr>\n",
       "  </tbody>\n",
       "</table>\n",
       "<p>1251341 rows × 4 columns</p>\n",
       "</div>"
      ],
      "text/plain": [
       "         nodeId                                     graphEmbedding  flag  \\\n",
       "0     255702663  [0.06717815, -0.092532516, -0.1189363, -0.0300...    28   \n",
       "1     255702719  [0.04853616, 0.05288233, -0.03917888, 0.079376...    60   \n",
       "2     255702776  [0.07652574, 0.049551904, 0.071946, 0.03915725...   141   \n",
       "3     255702981  [0.16148047, -0.053723894, 0.0099196695, 0.060...    43   \n",
       "4     255702983  [-0.024817739, 0.019410789, -0.2168279, -0.092...   141   \n",
       "...         ...                                                ...   ...   \n",
       "9995  162410689  [0.019068487, -0.0447315, 0.15278411, 0.049438...    41   \n",
       "9996  162411050  [-0.13176966, -0.21428567, -0.0612996, -0.1759...    62   \n",
       "9997  162411140  [0.18016608, -0.038522035, -0.044146292, -0.05...    37   \n",
       "9998  162411224  [0.1963172, 0.008663094, -0.08452889, -0.03905...     0   \n",
       "9999  162411250  [0.2706955, -0.06857227, -0.035038702, -0.2032...    88   \n",
       "\n",
       "      years  \n",
       "0      2018  \n",
       "1      2018  \n",
       "2      2015  \n",
       "3      2011  \n",
       "4      2016  \n",
       "...     ...  \n",
       "9995   2016  \n",
       "9996   2017  \n",
       "9997   2017  \n",
       "9998   2018  \n",
       "9999   2018  \n",
       "\n",
       "[1251341 rows x 4 columns]"
      ]
     },
     "execution_count": 37,
     "metadata": {},
     "output_type": "execute_result"
    }
   ],
   "source": [
    "import pandas as pd\n",
    "df = pd.concat(dfs)\n",
    "df"
   ]
  },
  {
   "cell_type": "code",
   "execution_count": 38,
   "id": "b45f376a-83c8-4355-a2ae-91207ef9f71f",
   "metadata": {},
   "outputs": [
    {
     "data": {
      "text/plain": [
       "graphName                                            labeledProjection\n",
       "database                                                         neo4j\n",
       "memoryUsage                                                           \n",
       "sizeInBytes                                                         -1\n",
       "nodeCount                                                      1251341\n",
       "relationshipCount                                              4035688\n",
       "configuration        {'jobId': 'a1258606-0dd1-4fd4-b56f-a905b1f46cb...\n",
       "density                                                       0.000003\n",
       "creationTime                       2022-06-11T15:22:15.776788000+00:00\n",
       "modificationTime                   2022-06-11T15:22:28.428540000+00:00\n",
       "schema               {'graphProperties': {}, 'relationships': {'CIT...\n",
       "Name: 0, dtype: object"
      ]
     },
     "execution_count": 38,
     "metadata": {},
     "output_type": "execute_result"
    }
   ],
   "source": [
    "g_labeled.drop()"
   ]
  },
  {
   "cell_type": "markdown",
   "id": "9727a85c-8c89-4a29-aaa0-bcb083820c38",
   "metadata": {},
   "source": [
    "## Train Nueral Network"
   ]
  },
  {
   "cell_type": "code",
   "execution_count": 39,
   "id": "77da8583-b0ad-42fc-986c-c97316f6cbda",
   "metadata": {},
   "outputs": [
    {
     "name": "stdout",
     "output_type": "stream",
     "text": [
      "2.8.1\n"
     ]
    }
   ],
   "source": [
    "# TensorFlow and tf.keras\n",
    "import tensorflow as tf\n",
    "\n",
    "# Helper libraries\n",
    "import numpy as np\n",
    "import matplotlib.pyplot as plt\n",
    "\n",
    "print(tf.__version__)"
   ]
  },
  {
   "cell_type": "code",
   "execution_count": 40,
   "id": "7c684ed5-d07b-45c1-b0b4-578fad06c9e6",
   "metadata": {},
   "outputs": [],
   "source": [
    "df_train = df[df.years < 2019]\n",
    "df_test = df[df.years >= 2019]"
   ]
  },
  {
   "cell_type": "code",
   "execution_count": 41,
   "id": "078a4e56-c20a-41d6-898f-850a11c66695",
   "metadata": {},
   "outputs": [],
   "source": [
    "y_train = df_train.flag\n",
    "y_test = df_test.flag\n",
    "X_train = np.stack(df_train.graphEmbedding, axis=0)\n",
    "X_test = np.stack(df_test.graphEmbedding, axis=0)"
   ]
  },
  {
   "cell_type": "code",
   "execution_count": 42,
   "id": "f5838253-832f-444f-8bcc-823978317f09",
   "metadata": {},
   "outputs": [],
   "source": [
    "model = tf.keras.Sequential([\n",
    "    tf.keras.layers.Dense(256, kernel_regularizer=tf.keras.regularizers.l2(0.00005)),\n",
    "    tf.keras.layers.Dense(180, activation='relu', kernel_regularizer=tf.keras.regularizers.l2(0.00005)),\n",
    "    tf.keras.layers.Dense(153)\n",
    "])"
   ]
  },
  {
   "cell_type": "code",
   "execution_count": 43,
   "id": "02ae8e9c-b4c9-48d7-8ad4-5bd6a19e7a4f",
   "metadata": {},
   "outputs": [],
   "source": [
    "model.compile(optimizer='adam',\n",
    "              loss=tf.keras.losses.SparseCategoricalCrossentropy(from_logits=True),\n",
    "              metrics=['accuracy'])"
   ]
  },
  {
   "cell_type": "code",
   "execution_count": 44,
   "id": "e9c5b799-6001-4898-9476-0e1f33f7fed5",
   "metadata": {},
   "outputs": [
    {
     "name": "stdout",
     "output_type": "stream",
     "text": [
      "Epoch 1/2\n",
      "34763/34763 [==============================] - 229s 7ms/step - loss: 3.1834 - accuracy: 0.3118\n",
      "Epoch 2/2\n",
      "34763/34763 [==============================] - 230s 7ms/step - loss: 2.9929 - accuracy: 0.3499\n"
     ]
    },
    {
     "data": {
      "text/plain": [
       "<keras.callbacks.History at 0x7f03f536fb50>"
      ]
     },
     "execution_count": 44,
     "metadata": {},
     "output_type": "execute_result"
    }
   ],
   "source": [
    "model.fit(X_train, y_train, epochs=2)"
   ]
  },
  {
   "cell_type": "markdown",
   "id": "fa77fb17-4798-43fb-8c9f-de68a04764f3",
   "metadata": {},
   "source": [
    "## Evaluate and Save Nueral Network"
   ]
  },
  {
   "cell_type": "code",
   "execution_count": 45,
   "id": "479606fe-de3f-467f-99db-343837945b8f",
   "metadata": {},
   "outputs": [
    {
     "name": "stdout",
     "output_type": "stream",
     "text": [
      "4343/4343 - 13s - loss: 3.1050 - accuracy: 0.3476 - 13s/epoch - 3ms/step\n",
      "\n",
      "Test accuracy: 0.34762394428253174\n"
     ]
    }
   ],
   "source": [
    "test_loss, test_acc = model.evaluate(X_test,  y_test, verbose=2)\n",
    "\n",
    "print('\\nTest accuracy:', test_acc)"
   ]
  },
  {
   "cell_type": "code",
   "execution_count": 46,
   "id": "a406aedf-7d89-4dfa-908e-2c870d834c05",
   "metadata": {},
   "outputs": [
    {
     "name": "stdout",
     "output_type": "stream",
     "text": [
      "INFO:tensorflow:Assets written to: simple-paper-classifier-5/assets\n"
     ]
    }
   ],
   "source": [
    "model.save('simple-paper-classifier-5')"
   ]
  },
  {
   "cell_type": "code",
   "execution_count": null,
   "id": "42790c5e-63d4-4c80-90ef-c1542ab5a496",
   "metadata": {},
   "outputs": [],
   "source": []
  }
 ],
 "metadata": {
  "environment": {
   "kernel": "python3",
   "name": "tf2-gpu.2-8.m93",
   "type": "gcloud",
   "uri": "gcr.io/deeplearning-platform-release/tf2-gpu.2-8:m93"
  },
  "kernelspec": {
   "display_name": "Python 3",
   "language": "python",
   "name": "python3"
  },
  "language_info": {
   "codemirror_mode": {
    "name": "ipython",
    "version": 3
   },
   "file_extension": ".py",
   "mimetype": "text/x-python",
   "name": "python",
   "nbconvert_exporter": "python",
   "pygments_lexer": "ipython3",
   "version": "3.7.12"
  }
 },
 "nbformat": 4,
 "nbformat_minor": 5
}
